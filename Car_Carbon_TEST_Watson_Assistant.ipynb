{
  "cells": [
    {
      "cell_type": "markdown",
      "metadata": {
        "id": "0eC7w_p1wLDb"
      },
      "source": [
        "###Install Watson Python SDK\n",
        "\n",
        "You only need to install once for your CPU.  If you are provisioning a new CPU on the cloud, you may need to install again."
      ]
    },
    {
      "cell_type": "code",
      "execution_count": null,
      "metadata": {
        "colab": {
          "base_uri": "https://localhost:8080/"
        },
        "id": "WzGfvHfvvtna",
        "outputId": "25f4d94e-a892-42ff-cb11-12dd6eccaad7"
      },
      "outputs": [
        {
          "output_type": "stream",
          "name": "stdout",
          "text": [
            "Looking in indexes: https://pypi.org/simple, https://us-python.pkg.dev/colab-wheels/public/simple/\n",
            "Collecting ibm-watson>=5.3.0\n",
            "  Downloading ibm-watson-6.0.0.tar.gz (338 kB)\n",
            "\u001b[K     |████████████████████████████████| 338 kB 4.9 MB/s \n",
            "\u001b[?25h  Installing build dependencies ... \u001b[?25l\u001b[?25hdone\n",
            "  Getting requirements to build wheel ... \u001b[?25l\u001b[?25hdone\n",
            "    Preparing wheel metadata ... \u001b[?25l\u001b[?25hdone\n",
            "Collecting ibm-cloud-sdk-core==3.*,>=3.3.6\n",
            "  Downloading ibm-cloud-sdk-core-3.15.1.tar.gz (50 kB)\n",
            "\u001b[K     |████████████████████████████████| 50 kB 6.3 MB/s \n",
            "\u001b[?25hRequirement already satisfied: requests<3.0,>=2.0 in /usr/local/lib/python3.7/dist-packages (from ibm-watson>=5.3.0) (2.23.0)\n",
            "Requirement already satisfied: python-dateutil>=2.5.3 in /usr/local/lib/python3.7/dist-packages (from ibm-watson>=5.3.0) (2.8.2)\n",
            "Collecting websocket-client==1.1.0\n",
            "  Downloading websocket_client-1.1.0-py2.py3-none-any.whl (68 kB)\n",
            "\u001b[K     |████████████████████████████████| 68 kB 6.0 MB/s \n",
            "\u001b[?25hCollecting requests<3.0,>=2.0\n",
            "  Downloading requests-2.27.1-py2.py3-none-any.whl (63 kB)\n",
            "\u001b[K     |████████████████████████████████| 63 kB 1.6 MB/s \n",
            "\u001b[?25hCollecting urllib3<2.0.0,>=1.26.0\n",
            "  Downloading urllib3-1.26.9-py2.py3-none-any.whl (138 kB)\n",
            "\u001b[K     |████████████████████████████████| 138 kB 47.7 MB/s \n",
            "\u001b[?25hCollecting PyJWT<3.0.0,>=2.0.1\n",
            "  Downloading PyJWT-2.4.0-py3-none-any.whl (18 kB)\n",
            "Requirement already satisfied: six>=1.5 in /usr/local/lib/python3.7/dist-packages (from python-dateutil>=2.5.3->ibm-watson>=5.3.0) (1.15.0)\n",
            "Requirement already satisfied: idna<4,>=2.5 in /usr/local/lib/python3.7/dist-packages (from requests<3.0,>=2.0->ibm-watson>=5.3.0) (2.10)\n",
            "Requirement already satisfied: certifi>=2017.4.17 in /usr/local/lib/python3.7/dist-packages (from requests<3.0,>=2.0->ibm-watson>=5.3.0) (2022.5.18.1)\n",
            "Requirement already satisfied: charset-normalizer~=2.0.0 in /usr/local/lib/python3.7/dist-packages (from requests<3.0,>=2.0->ibm-watson>=5.3.0) (2.0.12)\n",
            "Building wheels for collected packages: ibm-watson, ibm-cloud-sdk-core\n",
            "  Building wheel for ibm-watson (PEP 517) ... \u001b[?25l\u001b[?25hdone\n",
            "  Created wheel for ibm-watson: filename=ibm_watson-6.0.0-py3-none-any.whl size=336807 sha256=9f8399e5baa87161f58616ecdf8b71acc1d6cb9e40a5519c50a8c32278e84cef\n",
            "  Stored in directory: /root/.cache/pip/wheels/31/de/dd/1002a4fdfeed1322ccffb20b0a12e00afbeeee8df4a86769d7\n",
            "  Building wheel for ibm-cloud-sdk-core (setup.py) ... \u001b[?25l\u001b[?25hdone\n",
            "  Created wheel for ibm-cloud-sdk-core: filename=ibm_cloud_sdk_core-3.15.1-py3-none-any.whl size=83648 sha256=660619a479c057fd6e057d0162e14a3724681b68295f8f5d012ee1c7b0addc3d\n",
            "  Stored in directory: /root/.cache/pip/wheels/ba/7a/ac/408ba6a1438ea293164dbf26483b13a72165894a31e914b5e6\n",
            "Successfully built ibm-watson ibm-cloud-sdk-core\n",
            "Installing collected packages: urllib3, requests, PyJWT, websocket-client, ibm-cloud-sdk-core, ibm-watson\n",
            "  Attempting uninstall: urllib3\n",
            "    Found existing installation: urllib3 1.24.3\n",
            "    Uninstalling urllib3-1.24.3:\n",
            "      Successfully uninstalled urllib3-1.24.3\n",
            "  Attempting uninstall: requests\n",
            "    Found existing installation: requests 2.23.0\n",
            "    Uninstalling requests-2.23.0:\n",
            "      Successfully uninstalled requests-2.23.0\n",
            "\u001b[31mERROR: pip's dependency resolver does not currently take into account all the packages that are installed. This behaviour is the source of the following dependency conflicts.\n",
            "google-colab 1.0.0 requires requests~=2.23.0, but you have requests 2.27.1 which is incompatible.\n",
            "datascience 0.10.6 requires folium==0.2.1, but you have folium 0.8.3 which is incompatible.\u001b[0m\n",
            "Successfully installed PyJWT-2.4.0 ibm-cloud-sdk-core-3.15.1 ibm-watson-6.0.0 requests-2.27.1 urllib3-1.26.9 websocket-client-1.1.0\n"
          ]
        }
      ],
      "source": [
        "!pip install --upgrade \"ibm-watson>=5.3.0\""
      ]
    },
    {
      "cell_type": "markdown",
      "metadata": {
        "id": "xZgy8YlH9d8p"
      },
      "source": [
        "##Import Libraries\n",
        "\n",
        "Import Watson and other libraries"
      ]
    },
    {
      "cell_type": "code",
      "execution_count": null,
      "metadata": {
        "id": "J2x8F10x-ptC"
      },
      "outputs": [],
      "source": [
        "from ibm_watson import AssistantV1\n",
        "from ibm_watson import AssistantV2\n",
        "from ibm_cloud_sdk_core.authenticators import IAMAuthenticator\n",
        "\n",
        "import json, re, os\n",
        "import pandas as pd"
      ]
    },
    {
      "cell_type": "markdown",
      "metadata": {
        "id": "39sGfYxExL9N"
      },
      "source": [
        "###Configure Watson Assistant\n",
        "\n",
        "1. Go to cloud.ibm.com\n",
        "2. If you have not setup, create a new IBM ID using your email address.  For corporate users, please follow ID creation process supported by your corporation.  \n",
        "3. Login using your IBM ID\n",
        "4. Follow instructions provided in the class for steps in creating your Watson Assistant credentials which will be used in the following steps."
      ]
    },
    {
      "cell_type": "code",
      "execution_count": null,
      "metadata": {
        "id": "OVCmzsyCzIdO"
      },
      "outputs": [],
      "source": [
        "credentials_with_path = \"/content/credentials_4.json\"\n",
        "with open(credentials_with_path, 'r') as infile:\n",
        "    credentials_json = json.loads(infile.read())"
      ]
    },
    {
      "cell_type": "code",
      "execution_count": null,
      "metadata": {
        "id": "H2irWjgX0KVE"
      },
      "outputs": [],
      "source": [
        "#assistant_apikey = 'xRj80PfNeg9BTR4VqYv34UPyeVvCz5-BtySPuTbax1vJ'\n",
        "#url = 'https://api.us-south.assistant.watson.cloud.ibm.com'\n",
        "url = 'https://api.us-south.assistant.watson.cloud.ibm.com/instances/3fc13133-21a2-4907-9ac0-a029b1c2d8a2'\n",
        "assistant_version = '2022-04-27'\n",
        "assistant_authenticator = IAMAuthenticator('xRj80PfNeg9BTR4VqYv34UPyeVvCz5-BtySPuTbax1vJ')\n",
        "assistant_train = AssistantV1(version= assistant_version,\n",
        "                              authenticator=assistant_authenticator)\n",
        "assistant_run = AssistantV2(version= assistant_version,\n",
        "                            authenticator=assistant_authenticator)\n",
        "assistant_train.set_service_url(url)\n",
        "assistant_run.set_service_url(url)"
      ]
    },
    {
      "cell_type": "markdown",
      "metadata": {
        "id": "LaSise3-9d8q"
      },
      "source": [
        "### Create session"
      ]
    },
    {
      "cell_type": "code",
      "execution_count": null,
      "metadata": {
        "id": "va3WfYCK9d8q",
        "outputId": "7bb60429-058b-4516-e2d9-4cc3558c56d3",
        "colab": {
          "base_uri": "https://localhost:8080/"
        }
      },
      "outputs": [
        {
          "output_type": "execute_result",
          "data": {
            "text/plain": [
              "{'session_id': 'b389a816-2ac4-41e3-afac-d9550503f13f'}"
            ]
          },
          "metadata": {},
          "execution_count": 5
        }
      ],
      "source": [
        "assistant_id = '23818c8b-1fa5-4625-91a5-02edf0266b9d'\n",
        "response = assistant_run.create_session(assistant_id).get_result()\n",
        "session_id = response['session_id']\n",
        "response"
      ]
    },
    {
      "cell_type": "code",
      "execution_count": null,
      "metadata": {
        "id": "cFSl55of9d8r",
        "outputId": "1f22ca3e-a94e-496a-f26b-62172208df7e",
        "colab": {
          "base_uri": "https://localhost:8080/",
          "height": 35
        }
      },
      "outputs": [
        {
          "output_type": "execute_result",
          "data": {
            "text/plain": [
              "'23818c8b-1fa5-4625-91a5-02edf0266b9d'"
            ],
            "application/vnd.google.colaboratory.intrinsic+json": {
              "type": "string"
            }
          },
          "metadata": {},
          "execution_count": 6
        }
      ],
      "source": [
        "assistant_id"
      ]
    },
    {
      "cell_type": "markdown",
      "metadata": {
        "id": "u9AjsMP99d8r"
      },
      "source": [
        "### Read Test Data Set"
      ]
    },
    {
      "cell_type": "code",
      "execution_count": null,
      "metadata": {
        "id": "CP3mXPOC9d8s",
        "outputId": "c96dcc6d-2128-4356-c855-92da13d0e8f9",
        "colab": {
          "base_uri": "https://localhost:8080/"
        }
      },
      "outputs": [
        {
          "output_type": "execute_result",
          "data": {
            "text/plain": [
              "[{'Intent': 'Rebate_Calculator',\n",
              "  'Query': 'What is the maximum rebate I can get for Tesla X?'},\n",
              " {'Intent': 'Rebate_Calculator',\n",
              "  'Query': 'What is the highest rebate I can get on Ford Fiesta?'},\n",
              " {'Intent': 'Rebate_Calculator', 'Query': 'rebate on porsche boxster'},\n",
              " {'Intent': 'Rebate_Calculator',\n",
              "  'Query': 'What is the minimum rebate I can get for any car?'},\n",
              " {'Intent': 'Rebate_Calculator',\n",
              "  'Query': 'what is the maximum rebate I can get for ford?'},\n",
              " {'Intent': 'Carbon_Emission',\n",
              "  'Query': 'Can you tell me the carbon emissions of ford explorer?'},\n",
              " {'Intent': 'Carbon_Emission', 'Query': 'Carbon Emission of AUDI S4'},\n",
              " {'Intent': 'Carbon_Emission',\n",
              "  'Query': 'What is the carbon emission of HONDA ACCORD?'},\n",
              " {'Intent': 'MPG_Calculator', 'Query': 'Toyota Camry MPG'},\n",
              " {'Intent': 'MPG_Calculator', 'Query': 'Which Ford model has highest MPG?'},\n",
              " {'Intent': 'Rebate_Calculator',\n",
              "  'Query': 'What is the least rebate I can get for any car?'},\n",
              " {'Intent': 'Rebate_Calculator', 'Query': 'Rebate for Ford Explorer'},\n",
              " {'Intent': 'Carbon_Emission',\n",
              "  'Query': 'Carbon Emission of Ford Fiesta 440 miles driven'},\n",
              " {'Intent': 'Rebate_Calculator',\n",
              "  'Query': 'Which car will give me highest rebate?'},\n",
              " {'Intent': 'MPG_Calculator', 'Query': 'Which Tesla model has least MPG?'},\n",
              " {'Intent': 'MPG_Calculator', 'Query': 'Which Ford model has lowest MPG?'},\n",
              " {'Intent': 'MPG_Calculator', 'Query': 'Which Acura model has highest MPG?'},\n",
              " {'Intent': 'Carbon_Emission',\n",
              "  'Query': 'Which car has the highest carbon emission?'},\n",
              " {'Intent': 'Carbon_Emission',\n",
              "  'Query': 'Which car has the least carbon emission?'},\n",
              " {'Intent': 'Rebate_Calculator',\n",
              "  'Query': 'What is the maximum rebate I can get for any car?'}]"
            ]
          },
          "metadata": {},
          "execution_count": 7
        }
      ],
      "source": [
        "df_test_queries = pd.read_csv(\"/content/test2.csv\")\n",
        "test_queries_json = json.loads(df_test_queries.to_json(orient='records'))\n",
        "test_queries_json"
      ]
    },
    {
      "cell_type": "markdown",
      "metadata": {
        "id": "AMcaC8vu9d8r"
      },
      "source": [
        "### Test Sample Test 1 containing 20 cases\n"
      ]
    },
    {
      "cell_type": "code",
      "execution_count": null,
      "metadata": {
        "id": "oHFILT959d8r"
      },
      "outputs": [],
      "source": [
        "start_doc = 0\n",
        "end_doc = 20\n",
        "test_total = end_doc - start_doc"
      ]
    },
    {
      "cell_type": "markdown",
      "metadata": {
        "id": "dB3WWYUc9d8s"
      },
      "source": [
        "### First test one test case "
      ]
    },
    {
      "cell_type": "code",
      "source": [
        ""
      ],
      "metadata": {
        "id": "UYJsco_fGnkx"
      },
      "execution_count": null,
      "outputs": []
    },
    {
      "cell_type": "code",
      "source": [
        "test_query_1 = test_queries_json[0]['Query']\n",
        "test_query_1"
      ],
      "metadata": {
        "colab": {
          "base_uri": "https://localhost:8080/",
          "height": 35
        },
        "id": "hX7jkgjxyGGX",
        "outputId": "3725bb00-8889-4cba-bb83-db074193d78c"
      },
      "execution_count": null,
      "outputs": [
        {
          "output_type": "execute_result",
          "data": {
            "text/plain": [
              "'What is the maximum rebate I can get for Tesla X?'"
            ],
            "application/vnd.google.colaboratory.intrinsic+json": {
              "type": "string"
            }
          },
          "metadata": {},
          "execution_count": 9
        }
      ]
    },
    {
      "cell_type": "code",
      "execution_count": null,
      "metadata": {
        "id": "4EK0NZBa9d8s"
      },
      "outputs": [],
      "source": [
        "overview_clean = re.sub('[\\W\\_]',' ',test_query_1)\n",
        "if len(overview_clean) > 2048:\n",
        "    overview_clean = overview_clean[0:2047]"
      ]
    },
    {
      "cell_type": "code",
      "source": [
        "overview_clean"
      ],
      "metadata": {
        "colab": {
          "base_uri": "https://localhost:8080/",
          "height": 35
        },
        "id": "iey5vil-yzxG",
        "outputId": "bcceb180-f2bd-40a8-ee37-106736529931"
      },
      "execution_count": null,
      "outputs": [
        {
          "output_type": "execute_result",
          "data": {
            "text/plain": [
              "'What is the maximum rebate I can get for Tesla X '"
            ],
            "application/vnd.google.colaboratory.intrinsic+json": {
              "type": "string"
            }
          },
          "metadata": {},
          "execution_count": 11
        }
      ]
    },
    {
      "cell_type": "code",
      "source": [
        "skill_id = '23e2ed5c-3c8a-4c96-adef-39047d6783be'"
      ],
      "metadata": {
        "id": "6qFIMkUT0MnW"
      },
      "execution_count": null,
      "outputs": []
    },
    {
      "cell_type": "code",
      "execution_count": null,
      "metadata": {
        "id": "eIw_LsRt9d8s",
        "outputId": "1ae1c13a-08c2-4421-8bb8-6553f2aaeb3f",
        "colab": {
          "base_uri": "https://localhost:8080/"
        }
      },
      "outputs": [
        {
          "output_type": "execute_result",
          "data": {
            "text/plain": [
              "{'actions': [],\n",
              " 'alternate_intents': True,\n",
              " 'context': {'conversation_id': '8f259425-b9ec-4d88-befb-c72441e6514c',\n",
              "  'make': 'Tesla',\n",
              "  'metadata': {'user_id': '8f259425-b9ec-4d88-befb-c72441e6514c'},\n",
              "  'model': 'X',\n",
              "  'system': {'_node_output_map': {'response_8_1653164319034': [0]},\n",
              "   'branch_exited': True,\n",
              "   'branch_exited_reason': 'completed',\n",
              "   'dialog_request_counter': 1,\n",
              "   'dialog_stack': [{'dialog_node': 'root'}],\n",
              "   'dialog_turn_counter': 1,\n",
              "   'initialized': True,\n",
              "   'last_branch_node': 'node_1_1653164319032'},\n",
              "  'webhook_result_3': {'message': 'Please make sure you entered a valid Make and Model'}},\n",
              " 'entities': [{'confidence': 0.6838977336883545,\n",
              "   'entity': 'Level',\n",
              "   'location': [12, 19],\n",
              "   'value': 'highest'},\n",
              "  {'confidence': 0.9999821186065674,\n",
              "   'entity': 'Make',\n",
              "   'location': [41, 46],\n",
              "   'value': 'Tesla'},\n",
              "  {'confidence': 0.996331512928009,\n",
              "   'entity': 'Model',\n",
              "   'location': [47, 48],\n",
              "   'value': 'X'}],\n",
              " 'input': {'message_type': 'text',\n",
              "  'text': 'What is the maximum rebate I can get for Tesla X '},\n",
              " 'intents': [{'confidence': 1, 'intent': 'Rebate_Calculator'},\n",
              "  {'confidence': 0, 'intent': 'Carbon_Emission'},\n",
              "  {'confidence': 0, 'intent': 'Get_Name'},\n",
              "  {'confidence': 0, 'intent': 'Get_usermiles'},\n",
              "  {'confidence': 0, 'intent': 'Information_Search'},\n",
              "  {'confidence': 0, 'intent': 'MPG_Calculator'}],\n",
              " 'output': {'generic': [{'response_type': 'text',\n",
              "    'text': 'Please make sure you entered a valid Make and Model'}],\n",
              "  'log_messages': [],\n",
              "  'nodes_visited': ['node_1_1653164319032',\n",
              "   'handler_3_1653164319034',\n",
              "   'handler_6_1653164319034',\n",
              "   'response_8_1653164319034',\n",
              "   'node_1_1653164319032'],\n",
              "  'text': ['Please make sure you entered a valid Make and Model']},\n",
              " 'user_id': '8f259425-b9ec-4d88-befb-c72441e6514c'}"
            ]
          },
          "metadata": {},
          "execution_count": 13
        }
      ],
      "source": [
        "message_response_1 = assistant_train.message(workspace_id=  skill_id,\n",
        "                                             alternate_intents = True,                                             \n",
        "                                             input ={'message_type': 'text',\n",
        "                                                     'text': overview_clean}).get_result()\n",
        "message_response_1"
      ]
    },
    {
      "cell_type": "code",
      "execution_count": null,
      "metadata": {
        "id": "6PlijvRS9d8t",
        "colab": {
          "base_uri": "https://localhost:8080/"
        },
        "outputId": "938856e5-a770-4233-d79b-24f946f5d3f6"
      },
      "outputs": [
        {
          "output_type": "execute_result",
          "data": {
            "text/plain": [
              "{'output': {'actions': [],\n",
              "  'entities': [{'confidence': 0.6838977336883545,\n",
              "    'entity': 'Level',\n",
              "    'location': [12, 19],\n",
              "    'value': 'highest'},\n",
              "   {'confidence': 0.9999821186065674,\n",
              "    'entity': 'Make',\n",
              "    'location': [41, 46],\n",
              "    'value': 'Tesla'},\n",
              "   {'confidence': 0.996331512928009,\n",
              "    'entity': 'Model',\n",
              "    'location': [47, 48],\n",
              "    'value': 'X'}],\n",
              "  'generic': [{'response_type': 'text',\n",
              "    'text': 'Please make sure you entered a valid Make and Model'}],\n",
              "  'intents': [{'confidence': 1, 'intent': 'Rebate_Calculator'}]},\n",
              " 'user_id': 'b389a816-2ac4-41e3-afac-d9550503f13f'}"
            ]
          },
          "metadata": {},
          "execution_count": 14
        }
      ],
      "source": [
        "message_response_2 = assistant_run.message(assistant_id = assistant_id, \n",
        "                                           session_id = session_id,\n",
        "                                           input ={'message_type': 'text',\n",
        "                                                   'text': overview_clean}).get_result()\n",
        "message_response_2"
      ]
    },
    {
      "cell_type": "markdown",
      "metadata": {
        "id": "vvrm4CuS9d8t"
      },
      "source": [
        "### Test full test case conatining all 20 test cases"
      ]
    },
    {
      "cell_type": "code",
      "execution_count": null,
      "metadata": {
        "scrolled": true,
        "id": "Vv_xEoC39d8t",
        "outputId": "1a2000cd-6c99-4d18-ff03-78a1448ebe8b",
        "colab": {
          "base_uri": "https://localhost:8080/"
        }
      },
      "outputs": [
        {
          "output_type": "stream",
          "name": "stdout",
          "text": [
            "1 \t 1 \t True\n",
            "2 \t 2 \t True\n",
            "3 \t 3 \t True\n",
            "4 \t 4 \t True\n",
            "5 \t 5 \t True\n",
            "6 \t 6 \t True\n",
            "7 \t 7 \t True\n",
            "8 \t 8 \t True\n",
            "9 \t 9 \t True\n",
            "10 \t 10 \t True\n",
            "11 \t 11 \t True\n",
            "12 \t 12 \t True\n",
            "13 \t 13 \t True\n",
            "14 \t 14 \t True\n",
            "15 \t 15 \t True\n",
            "16 \t 16 \t True\n",
            "17 \t 17 \t True\n",
            "18 \t 18 \t True\n",
            "19 \t 19 \t True\n",
            "20 \t 20 \t True\n"
          ]
        }
      ],
      "source": [
        "test_result_json = []\n",
        "match_counter = 0\n",
        "counter = 0\n",
        "for test_query in test_queries_json[start_doc:end_doc]:\n",
        "    overview_clean = re.sub('[\\W\\_]',' ',test_query['Query'])\n",
        "    if len(overview_clean) > 2048:\n",
        "        overview_clean = overview_clean[0:2047]\n",
        "    message_response = assistant_train.message(workspace_id = skill_id, \n",
        "                                             alternate_intents = True,                                             \n",
        "                                             input ={'message_type': 'text',\n",
        "                                                     'text': overview_clean}).get_result()\n",
        "    intent_list = message_response['intents']\n",
        "    match = False\n",
        "    for intent in intent_list[0:6]:\n",
        "        if intent['intent'] == test_query['Intent']:\n",
        "            match = True\n",
        "            match_counter = match_counter + 1\n",
        "    entities_list = message_response['entities']\n",
        "    test_result_json.append({'overview': overview_clean,\n",
        "                             'predicted_intent': intent_list,\n",
        "                             'listed_intent': test_query['Intent'],\n",
        "                             'match': match,\n",
        "                             'entities': entities_list})\n",
        "    counter = counter + 1\n",
        "    print(counter, '\\t', match_counter, '\\t', match)\n",
        "df_test_results = pd.DataFrame.from_dict(test_result_json)\n",
        "df_test_results.to_excel('test_results-set1.xlsx')"
      ]
    },
    {
      "cell_type": "code",
      "source": [
        "test_result_json"
      ],
      "metadata": {
        "colab": {
          "base_uri": "https://localhost:8080/"
        },
        "id": "TDH02RXXff-M",
        "outputId": "29c382ae-5394-48a1-8add-1907fff74f09"
      },
      "execution_count": null,
      "outputs": [
        {
          "output_type": "execute_result",
          "data": {
            "text/plain": [
              "[{'entities': [{'confidence': 0.6838977336883545,\n",
              "    'entity': 'Level',\n",
              "    'location': [12, 19],\n",
              "    'value': 'highest'},\n",
              "   {'confidence': 0.9999821186065674,\n",
              "    'entity': 'Make',\n",
              "    'location': [41, 46],\n",
              "    'value': 'Tesla'},\n",
              "   {'confidence': 0.996331512928009,\n",
              "    'entity': 'Model',\n",
              "    'location': [47, 48],\n",
              "    'value': 'X'}],\n",
              "  'listed_intent': 'Rebate_Calculator',\n",
              "  'match': True,\n",
              "  'overview': 'What is the maximum rebate I can get for Tesla X ',\n",
              "  'predicted_intent': [{'confidence': 1, 'intent': 'Rebate_Calculator'},\n",
              "   {'confidence': 0, 'intent': 'Carbon_Emission'},\n",
              "   {'confidence': 0, 'intent': 'Get_Name'},\n",
              "   {'confidence': 0, 'intent': 'Get_usermiles'},\n",
              "   {'confidence': 0, 'intent': 'Information_Search'},\n",
              "   {'confidence': 0, 'intent': 'MPG_Calculator'}]},\n",
              " {'entities': [{'confidence': 0.9257551431655884,\n",
              "    'entity': 'Level',\n",
              "    'location': [12, 19],\n",
              "    'value': 'highest'},\n",
              "   {'confidence': 0.9999938011169434,\n",
              "    'entity': 'Make',\n",
              "    'location': [40, 44],\n",
              "    'value': 'FORD'},\n",
              "   {'confidence': 0.9990094900131226,\n",
              "    'entity': 'Model',\n",
              "    'location': [45, 51],\n",
              "    'value': 'FIESTA'}],\n",
              "  'listed_intent': 'Rebate_Calculator',\n",
              "  'match': True,\n",
              "  'overview': 'What is the highest rebate I can get on Ford Fiesta ',\n",
              "  'predicted_intent': [{'confidence': 0.9545069217681885,\n",
              "    'intent': 'Rebate_Calculator'},\n",
              "   {'confidence': 0.34366793632507325, 'intent': 'MPG_Calculator'},\n",
              "   {'confidence': 0.22714118361473085, 'intent': 'Carbon_Emission'},\n",
              "   {'confidence': 0.2202171787619591, 'intent': 'Get_Name'},\n",
              "   {'confidence': 0.21657582223415375, 'intent': 'Get_usermiles'},\n",
              "   {'confidence': 0.2029468420892954, 'intent': 'Information_Search'}]},\n",
              " {'entities': [{'confidence': 0.9999744892120361,\n",
              "    'entity': 'Make',\n",
              "    'location': [10, 17],\n",
              "    'value': 'porsche'},\n",
              "   {'confidence': 0.9986409544944763,\n",
              "    'entity': 'Model',\n",
              "    'location': [18, 25],\n",
              "    'value': 'boxster'}],\n",
              "  'listed_intent': 'Rebate_Calculator',\n",
              "  'match': True,\n",
              "  'overview': 'rebate on porsche boxster',\n",
              "  'predicted_intent': [{'confidence': 0.839842462539673,\n",
              "    'intent': 'Rebate_Calculator'},\n",
              "   {'confidence': 0.39800138473510743, 'intent': 'Carbon_Emission'},\n",
              "   {'confidence': 0.26028056144714357, 'intent': 'Get_Name'},\n",
              "   {'confidence': 0.24209072291851044, 'intent': 'MPG_Calculator'},\n",
              "   {'confidence': 0.24087016582489015, 'intent': 'Get_usermiles'},\n",
              "   {'confidence': 0.21097307056188586, 'intent': 'Information_Search'}]},\n",
              " {'entities': [],\n",
              "  'listed_intent': 'Rebate_Calculator',\n",
              "  'match': True,\n",
              "  'overview': 'What is the minimum rebate I can get for any car ',\n",
              "  'predicted_intent': [{'confidence': 1, 'intent': 'Rebate_Calculator'},\n",
              "   {'confidence': 0, 'intent': 'Carbon_Emission'},\n",
              "   {'confidence': 0, 'intent': 'Get_Name'},\n",
              "   {'confidence': 0, 'intent': 'Get_usermiles'},\n",
              "   {'confidence': 0, 'intent': 'Information_Search'},\n",
              "   {'confidence': 0, 'intent': 'MPG_Calculator'}]},\n",
              " {'entities': [{'confidence': 0.6838977336883545,\n",
              "    'entity': 'Level',\n",
              "    'location': [12, 19],\n",
              "    'value': 'highest'},\n",
              "   {'confidence': 0.9999816417694092,\n",
              "    'entity': 'Make',\n",
              "    'location': [41, 45],\n",
              "    'value': 'FORD'}],\n",
              "  'listed_intent': 'Rebate_Calculator',\n",
              "  'match': True,\n",
              "  'overview': 'what is the maximum rebate I can get for ford ',\n",
              "  'predicted_intent': [{'confidence': 1, 'intent': 'Rebate_Calculator'},\n",
              "   {'confidence': 0, 'intent': 'Carbon_Emission'},\n",
              "   {'confidence': 0, 'intent': 'Get_Name'},\n",
              "   {'confidence': 0, 'intent': 'Get_usermiles'},\n",
              "   {'confidence': 0, 'intent': 'Information_Search'},\n",
              "   {'confidence': 0, 'intent': 'MPG_Calculator'}]},\n",
              " {'entities': [{'confidence': 1,\n",
              "    'entity': 'Make',\n",
              "    'location': [40, 44],\n",
              "    'value': 'FORD'},\n",
              "   {'confidence': 0.999958872795105,\n",
              "    'entity': 'Model',\n",
              "    'location': [45, 53],\n",
              "    'value': 'explorer'}],\n",
              "  'listed_intent': 'Carbon_Emission',\n",
              "  'match': True,\n",
              "  'overview': 'Can you tell me the carbon emissions of ford explorer ',\n",
              "  'predicted_intent': [{'confidence': 1, 'intent': 'Carbon_Emission'},\n",
              "   {'confidence': 0, 'intent': 'Get_Name'},\n",
              "   {'confidence': 0, 'intent': 'Get_usermiles'},\n",
              "   {'confidence': 0, 'intent': 'Information_Search'},\n",
              "   {'confidence': 0, 'intent': 'MPG_Calculator'},\n",
              "   {'confidence': 0, 'intent': 'Rebate_Calculator'}]},\n",
              " {'entities': [{'confidence': 0.9999994039535522,\n",
              "    'entity': 'Make',\n",
              "    'location': [19, 23],\n",
              "    'value': 'AUDI'},\n",
              "   {'confidence': 0.9997808337211609,\n",
              "    'entity': 'Model',\n",
              "    'location': [24, 26],\n",
              "    'value': 'S4'}],\n",
              "  'listed_intent': 'Carbon_Emission',\n",
              "  'match': True,\n",
              "  'overview': 'Carbon Emission of AUDI S4',\n",
              "  'predicted_intent': [{'confidence': 0.9556427001953125,\n",
              "    'intent': 'Carbon_Emission'},\n",
              "   {'confidence': 0.29470011591911316, 'intent': 'Information_Search'},\n",
              "   {'confidence': 0.264800488948822, 'intent': 'Get_usermiles'},\n",
              "   {'confidence': 0.22547207474708558, 'intent': 'Get_Name'},\n",
              "   {'confidence': 0.22004681080579758, 'intent': 'Rebate_Calculator'},\n",
              "   {'confidence': 0.21148465797305108, 'intent': 'MPG_Calculator'}]},\n",
              " {'entities': [{'confidence': 1,\n",
              "    'entity': 'Make',\n",
              "    'location': [31, 36],\n",
              "    'value': 'HONDA'},\n",
              "   {'confidence': 0.9987012147903442,\n",
              "    'entity': 'Model',\n",
              "    'location': [37, 43],\n",
              "    'value': 'ACCORD'}],\n",
              "  'listed_intent': 'Carbon_Emission',\n",
              "  'match': True,\n",
              "  'overview': 'What is the carbon emission of HONDA ACCORD ',\n",
              "  'predicted_intent': [{'confidence': 1, 'intent': 'Carbon_Emission'},\n",
              "   {'confidence': 0, 'intent': 'Get_Name'},\n",
              "   {'confidence': 0, 'intent': 'Get_usermiles'},\n",
              "   {'confidence': 0, 'intent': 'Information_Search'},\n",
              "   {'confidence': 0, 'intent': 'MPG_Calculator'},\n",
              "   {'confidence': 0, 'intent': 'Rebate_Calculator'}]},\n",
              " {'entities': [{'confidence': 0.9985878467559814,\n",
              "    'entity': 'Make',\n",
              "    'location': [0, 6],\n",
              "    'value': 'Toyota'},\n",
              "   {'confidence': 0.9845676422119141,\n",
              "    'entity': 'Model',\n",
              "    'location': [7, 12],\n",
              "    'value': 'Camry'}],\n",
              "  'listed_intent': 'MPG_Calculator',\n",
              "  'match': True,\n",
              "  'overview': 'Toyota Camry MPG',\n",
              "  'predicted_intent': [{'confidence': 0.9327571868896485,\n",
              "    'intent': 'MPG_Calculator'},\n",
              "   {'confidence': 0.26745779514312745, 'intent': 'Get_Name'},\n",
              "   {'confidence': 0.25774520039558413, 'intent': 'Get_usermiles'},\n",
              "   {'confidence': 0.25614228248596194, 'intent': 'Carbon_Emission'},\n",
              "   {'confidence': 0.25064319968223575, 'intent': 'Rebate_Calculator'},\n",
              "   {'confidence': 0.23913555443286896, 'intent': 'Information_Search'}]},\n",
              " {'entities': [{'confidence': 0.9995755553245544,\n",
              "    'entity': 'Make',\n",
              "    'location': [6, 10],\n",
              "    'value': 'FORD'},\n",
              "   {'confidence': 0.9998304843902588,\n",
              "    'entity': 'Level',\n",
              "    'location': [21, 28],\n",
              "    'value': 'highest'}],\n",
              "  'listed_intent': 'MPG_Calculator',\n",
              "  'match': True,\n",
              "  'overview': 'Which Ford model has highest MPG ',\n",
              "  'predicted_intent': [{'confidence': 1, 'intent': 'MPG_Calculator'},\n",
              "   {'confidence': 0, 'intent': 'Carbon_Emission'},\n",
              "   {'confidence': 0, 'intent': 'Get_Name'},\n",
              "   {'confidence': 0, 'intent': 'Get_usermiles'},\n",
              "   {'confidence': 0, 'intent': 'Information_Search'},\n",
              "   {'confidence': 0, 'intent': 'Rebate_Calculator'}]},\n",
              " {'entities': [],\n",
              "  'listed_intent': 'Rebate_Calculator',\n",
              "  'match': True,\n",
              "  'overview': 'What is the least rebate I can get for any car ',\n",
              "  'predicted_intent': [{'confidence': 0.9324371337890625,\n",
              "    'intent': 'Rebate_Calculator'},\n",
              "   {'confidence': 0.2576292097568512, 'intent': 'Get_usermiles'},\n",
              "   {'confidence': 0.25642999410629275, 'intent': 'Information_Search'},\n",
              "   {'confidence': 0.2476200342178345, 'intent': 'Get_Name'},\n",
              "   {'confidence': 0.2134323075413704, 'intent': 'MPG_Calculator'},\n",
              "   {'confidence': 0.20977554544806482, 'intent': 'Carbon_Emission'}]},\n",
              " {'entities': [{'confidence': 0.9999912977218628,\n",
              "    'entity': 'Make',\n",
              "    'location': [11, 15],\n",
              "    'value': 'FORD'},\n",
              "   {'confidence': 0.9972257018089294,\n",
              "    'entity': 'Model',\n",
              "    'location': [16, 24],\n",
              "    'value': 'explorer'}],\n",
              "  'listed_intent': 'Rebate_Calculator',\n",
              "  'match': True,\n",
              "  'overview': 'Rebate for Ford Explorer',\n",
              "  'predicted_intent': [{'confidence': 0.9405488014221193,\n",
              "    'intent': 'Rebate_Calculator'},\n",
              "   {'confidence': 0.2723132312297821, 'intent': 'Carbon_Emission'},\n",
              "   {'confidence': 0.24487088322639466, 'intent': 'Get_Name'},\n",
              "   {'confidence': 0.24157896339893342, 'intent': 'Get_usermiles'},\n",
              "   {'confidence': 0.23858220279216769, 'intent': 'MPG_Calculator'},\n",
              "   {'confidence': 0.20824502483010293, 'intent': 'Information_Search'}]},\n",
              " {'entities': [{'confidence': 1,\n",
              "    'entity': 'Make',\n",
              "    'location': [19, 23],\n",
              "    'value': 'FORD'},\n",
              "   {'confidence': 0.9999924898147583,\n",
              "    'entity': 'Model',\n",
              "    'location': [24, 30],\n",
              "    'value': 'FIESTA'},\n",
              "   {'confidence': 1,\n",
              "    'entity': 'sys-number',\n",
              "    'interpretation': {'numeric_value': 440, 'subtype': 'integer'},\n",
              "    'location': [31, 34],\n",
              "    'metadata': {'numeric_value': 440},\n",
              "    'value': '440'}],\n",
              "  'listed_intent': 'Carbon_Emission',\n",
              "  'match': True,\n",
              "  'overview': 'Carbon Emission of Ford Fiesta 440 miles driven',\n",
              "  'predicted_intent': [{'confidence': 0.9439756393432617,\n",
              "    'intent': 'Carbon_Emission'},\n",
              "   {'confidence': 0.3274857997894287, 'intent': 'Get_usermiles'},\n",
              "   {'confidence': 0.24917196929454805, 'intent': 'MPG_Calculator'},\n",
              "   {'confidence': 0.2272790849208832, 'intent': 'Rebate_Calculator'},\n",
              "   {'confidence': 0.21816745698451998, 'intent': 'Information_Search'},\n",
              "   {'confidence': 0.21383396834135057, 'intent': 'Get_Name'}]},\n",
              " {'entities': [{'confidence': 0.9985480904579163,\n",
              "    'entity': 'Level',\n",
              "    'location': [23, 30],\n",
              "    'value': 'highest'}],\n",
              "  'listed_intent': 'Rebate_Calculator',\n",
              "  'match': True,\n",
              "  'overview': 'Which car will give me highest rebate ',\n",
              "  'predicted_intent': [{'confidence': 0.8422047615051269,\n",
              "    'intent': 'Rebate_Calculator'},\n",
              "   {'confidence': 0.28744370937347413, 'intent': 'Information_Search'},\n",
              "   {'confidence': 0.2460231572389603, 'intent': 'Get_Name'},\n",
              "   {'confidence': 0.2442604511976242, 'intent': 'Get_usermiles'},\n",
              "   {'confidence': 0.2438383251428604, 'intent': 'MPG_Calculator'},\n",
              "   {'confidence': 0.20631096586585046, 'intent': 'Carbon_Emission'}]},\n",
              " {'entities': [{'confidence': 0.9987185001373291,\n",
              "    'entity': 'Make',\n",
              "    'location': [6, 11],\n",
              "    'value': 'Tesla'},\n",
              "   {'confidence': 0.7381178736686707,\n",
              "    'entity': 'Level',\n",
              "    'location': [22, 27],\n",
              "    'value': 'least'}],\n",
              "  'listed_intent': 'MPG_Calculator',\n",
              "  'match': True,\n",
              "  'overview': 'Which Tesla model has least MPG ',\n",
              "  'predicted_intent': [{'confidence': 0.7221917152404786,\n",
              "    'intent': 'MPG_Calculator'},\n",
              "   {'confidence': 0.3264172196388245, 'intent': 'Rebate_Calculator'},\n",
              "   {'confidence': 0.2566887021064759, 'intent': 'Get_usermiles'},\n",
              "   {'confidence': 0.24260193407535555, 'intent': 'Carbon_Emission'},\n",
              "   {'confidence': 0.2341686487197876, 'intent': 'Get_Name'},\n",
              "   {'confidence': 0.22321502268314364, 'intent': 'Information_Search'}]},\n",
              " {'entities': [{'confidence': 0.9995755553245544,\n",
              "    'entity': 'Make',\n",
              "    'location': [6, 10],\n",
              "    'value': 'FORD'},\n",
              "   {'confidence': 0.9975261092185974,\n",
              "    'entity': 'Level',\n",
              "    'location': [21, 27],\n",
              "    'value': 'lowest'}],\n",
              "  'listed_intent': 'MPG_Calculator',\n",
              "  'match': True,\n",
              "  'overview': 'Which Ford model has lowest MPG ',\n",
              "  'predicted_intent': [{'confidence': 0.8763410568237304,\n",
              "    'intent': 'MPG_Calculator'},\n",
              "   {'confidence': 0.26851214170455934, 'intent': 'Rebate_Calculator'},\n",
              "   {'confidence': 0.23681314289569855, 'intent': 'Information_Search'},\n",
              "   {'confidence': 0.22341129481792452, 'intent': 'Get_Name'},\n",
              "   {'confidence': 0.22282876819372177, 'intent': 'Get_usermiles'},\n",
              "   {'confidence': 0.22121162563562394, 'intent': 'Carbon_Emission'}]},\n",
              " {'entities': [{'confidence': 0.9990369081497192,\n",
              "    'entity': 'Make',\n",
              "    'location': [6, 11],\n",
              "    'value': 'acura'},\n",
              "   {'confidence': 0.999817430973053,\n",
              "    'entity': 'Level',\n",
              "    'location': [22, 29],\n",
              "    'value': 'highest'}],\n",
              "  'listed_intent': 'MPG_Calculator',\n",
              "  'match': True,\n",
              "  'overview': 'Which Acura model has highest MPG ',\n",
              "  'predicted_intent': [{'confidence': 0.9662872791290285,\n",
              "    'intent': 'MPG_Calculator'},\n",
              "   {'confidence': 0.2676858961582184, 'intent': 'Rebate_Calculator'},\n",
              "   {'confidence': 0.23260036408901216, 'intent': 'Carbon_Emission'},\n",
              "   {'confidence': 0.22950613498687744, 'intent': 'Get_usermiles'},\n",
              "   {'confidence': 0.2256784200668335, 'intent': 'Get_Name'},\n",
              "   {'confidence': 0.21807435154914856, 'intent': 'Information_Search'}]},\n",
              " {'entities': [{'confidence': 0.9924339056015015,\n",
              "    'entity': 'Level',\n",
              "    'location': [18, 25],\n",
              "    'value': 'highest'}],\n",
              "  'listed_intent': 'Carbon_Emission',\n",
              "  'match': True,\n",
              "  'overview': 'Which car has the highest carbon emission ',\n",
              "  'predicted_intent': [{'confidence': 0.6034748554229736,\n",
              "    'intent': 'Information_Search'},\n",
              "   {'confidence': 0.311924946308136, 'intent': 'MPG_Calculator'},\n",
              "   {'confidence': 0.2926155805587769, 'intent': 'Carbon_Emission'},\n",
              "   {'confidence': 0.2358295261859894, 'intent': 'Rebate_Calculator'},\n",
              "   {'confidence': 0.2325416922569275, 'intent': 'Get_usermiles'},\n",
              "   {'confidence': 0.2253637492656708, 'intent': 'Get_Name'}]},\n",
              " {'entities': [],\n",
              "  'listed_intent': 'Carbon_Emission',\n",
              "  'match': True,\n",
              "  'overview': 'Which car has the least carbon emission ',\n",
              "  'predicted_intent': [{'confidence': 0.5947765111923218,\n",
              "    'intent': 'Information_Search'},\n",
              "   {'confidence': 0.38502275943756104, 'intent': 'Carbon_Emission'},\n",
              "   {'confidence': 0.25534492135047915, 'intent': 'Get_usermiles'},\n",
              "   {'confidence': 0.2547716856002808, 'intent': 'MPG_Calculator'},\n",
              "   {'confidence': 0.23383750915527346, 'intent': 'Get_Name'},\n",
              "   {'confidence': 0.22370315939188004, 'intent': 'Rebate_Calculator'}]},\n",
              " {'entities': [{'confidence': 0.6838977336883545,\n",
              "    'entity': 'Level',\n",
              "    'location': [12, 19],\n",
              "    'value': 'highest'}],\n",
              "  'listed_intent': 'Rebate_Calculator',\n",
              "  'match': True,\n",
              "  'overview': 'What is the maximum rebate I can get for any car ',\n",
              "  'predicted_intent': [{'confidence': 0.9700653553009033,\n",
              "    'intent': 'Rebate_Calculator'},\n",
              "   {'confidence': 0.2525511384010315, 'intent': 'Information_Search'},\n",
              "   {'confidence': 0.23621251583099367, 'intent': 'Get_usermiles'},\n",
              "   {'confidence': 0.228222194314003, 'intent': 'Get_Name'},\n",
              "   {'confidence': 0.21026952266693116, 'intent': 'MPG_Calculator'},\n",
              "   {'confidence': 0.2060518901795149, 'intent': 'Carbon_Emission'}]}]"
            ]
          },
          "metadata": {},
          "execution_count": 16
        }
      ]
    },
    {
      "cell_type": "code",
      "source": [
        "intent_list[0:6]"
      ],
      "metadata": {
        "colab": {
          "base_uri": "https://localhost:8080/"
        },
        "id": "LHJEO1jtGp-n",
        "outputId": "9076a5eb-eac6-4c1e-a02b-98b4ee449a62"
      },
      "execution_count": null,
      "outputs": [
        {
          "output_type": "execute_result",
          "data": {
            "text/plain": [
              "[{'confidence': 0.9700653553009033, 'intent': 'Rebate_Calculator'},\n",
              " {'confidence': 0.2525511384010315, 'intent': 'Information_Search'},\n",
              " {'confidence': 0.23621251583099367, 'intent': 'Get_usermiles'},\n",
              " {'confidence': 0.228222194314003, 'intent': 'Get_Name'},\n",
              " {'confidence': 0.21026952266693116, 'intent': 'MPG_Calculator'},\n",
              " {'confidence': 0.2060518901795149, 'intent': 'Carbon_Emission'}]"
            ]
          },
          "metadata": {},
          "execution_count": 17
        }
      ]
    },
    {
      "cell_type": "markdown",
      "metadata": {
        "id": "bWIDGCoM9d8t"
      },
      "source": [
        "### 6.3 Print match accuracy"
      ]
    },
    {
      "cell_type": "code",
      "execution_count": null,
      "metadata": {
        "id": "AVfoHJWB9d8u",
        "outputId": "0107bca8-527f-4e93-ed66-07e4eb1b2736",
        "colab": {
          "base_uri": "https://localhost:8080/"
        }
      },
      "outputs": [
        {
          "output_type": "stream",
          "name": "stdout",
          "text": [
            "Match Accuracy:  1.0 Test Total:  20 Match Counter:  20\n"
          ]
        }
      ],
      "source": [
        "match_accuracy = match_counter / test_total\n",
        "print(\"Match Accuracy: \", match_accuracy, \"Test Total: \", test_total, \"Match Counter: \", match_counter)"
      ]
    },
    {
      "cell_type": "markdown",
      "source": [
        "New set of tests"
      ],
      "metadata": {
        "id": "T4yKvFRAZIFT"
      }
    },
    {
      "cell_type": "code",
      "execution_count": null,
      "metadata": {
        "outputId": "af32c430-e783-4f09-dd09-7da09cfa3fe8",
        "colab": {
          "base_uri": "https://localhost:8080/"
        },
        "id": "VBLvz2xgYsjz"
      },
      "outputs": [
        {
          "output_type": "execute_result",
          "data": {
            "text/plain": [
              "[{'Intent': 'Information_Search', 'Query': 'What is carbon emission?'},\n",
              " {'Intent': 'Carbon_Emission',\n",
              "  'Query': 'Which non hybrid/EV car has the lowest carbon footprint'},\n",
              " {'Intent': 'Rebate_Calculator',\n",
              "  'Query': 'Which electric car has the highest Rebate?'},\n",
              " {'Intent': 'Carbon_Emission',\n",
              "  'Query': 'Which electric car has the highest carbon footprint?'},\n",
              " {'Intent': 'MPG_Calculator',\n",
              "  'Query': 'How many cylinders is the most eco-friendly?'},\n",
              " {'Intent': 'Carbon_Emission',\n",
              "  'Query': 'Which brand has the least carbon emission?'},\n",
              " {'Intent': 'Carbon_Emission', 'Query': 'Carbon Emission AUDI S4'},\n",
              " {'Intent': 'Carbon_Emission', 'Query': 'carbon emission of HONDA ACCORD?'},\n",
              " {'Intent': 'MPG_Calculator', 'Query': 'Tesla 3 Miles per gallon'},\n",
              " {'Intent': 'MPG_Calculator', 'Query': 'Which Audi model has maximum MPG?'},\n",
              " {'Intent': 'Rebate_Calculator',\n",
              "  'Query': 'What is the lowest rebate I can get for any car?'},\n",
              " {'Intent': 'Information_Search',\n",
              "  'Query': 'How to calculate Carbon Emission?'},\n",
              " {'Intent': 'Carbon_Emission',\n",
              "  'Query': 'Carbon Emission of Ford mustang 1 miles driven'},\n",
              " {'Intent': 'Rebate_Calculator',\n",
              "  'Query': 'Which vehicle will give me highest rebate?'},\n",
              " {'Intent': 'MPG_Calculator', 'Query': 'Which Tesla model has least MPG?'},\n",
              " {'Intent': 'MPG_Calculator', 'Query': 'Which Ford model has lowest MPG?'},\n",
              " {'Intent': 'MPG_Calculator', 'Query': 'Which BMW model has maximum MPG?'},\n",
              " {'Intent': 'Carbon_Emission',\n",
              "  'Query': 'Which vehicle has the highest carbon emission?'},\n",
              " {'Intent': 'Carbon_Emission',\n",
              "  'Query': 'What car has the least carbon emission?'},\n",
              " {'Intent': 'Rebate_Calculator',\n",
              "  'Query': 'What is the maximum rebate I can get for any car?'}]"
            ]
          },
          "metadata": {},
          "execution_count": 21
        }
      ],
      "source": [
        "df_test_queries = pd.read_csv(\"/content/test3.csv\")\n",
        "test_queries_json = json.loads(df_test_queries.to_json(orient='records'))\n",
        "test_queries_json"
      ]
    },
    {
      "cell_type": "code",
      "execution_count": null,
      "metadata": {
        "id": "PVTV77NKYsj0"
      },
      "outputs": [],
      "source": [
        "start_doc = 0\n",
        "end_doc = 20\n",
        "test_total = end_doc - start_doc"
      ]
    },
    {
      "cell_type": "code",
      "execution_count": null,
      "metadata": {
        "id": "Q4qKRopD9d8u",
        "outputId": "7a394507-ba7e-4131-e2b3-d4edbda7c44d",
        "colab": {
          "base_uri": "https://localhost:8080/"
        }
      },
      "outputs": [
        {
          "output_type": "stream",
          "name": "stdout",
          "text": [
            "1 \t 1 \t True\n",
            "2 \t 2 \t True\n",
            "3 \t 3 \t True\n",
            "4 \t 4 \t True\n",
            "5 \t 5 \t True\n",
            "6 \t 6 \t True\n",
            "7 \t 7 \t True\n",
            "8 \t 8 \t True\n",
            "9 \t 9 \t True\n",
            "10 \t 10 \t True\n",
            "11 \t 11 \t True\n",
            "12 \t 12 \t True\n",
            "13 \t 13 \t True\n",
            "14 \t 14 \t True\n",
            "15 \t 15 \t True\n",
            "16 \t 16 \t True\n",
            "17 \t 17 \t True\n",
            "18 \t 18 \t True\n",
            "19 \t 19 \t True\n",
            "20 \t 20 \t True\n"
          ]
        }
      ],
      "source": [
        "test_result_json = []\n",
        "match_counter = 0\n",
        "counter = 0\n",
        "for test_query in test_queries_json[start_doc:end_doc]:\n",
        "    overview_clean = re.sub('[\\W\\_]',' ',test_query['Query'])\n",
        "    if len(overview_clean) > 2048:\n",
        "        overview_clean = overview_clean[0:2047]\n",
        "    message_response = assistant_train.message(workspace_id = skill_id, \n",
        "                                             alternate_intents = True,                                             \n",
        "                                             input ={'message_type': 'text',\n",
        "                                                     'text': overview_clean}).get_result()\n",
        "    intent_list = message_response['intents']\n",
        "    match = False\n",
        "    for intent in intent_list[0:6]:\n",
        "        if intent['intent'] == test_query['Intent']:\n",
        "            match = True\n",
        "            match_counter = match_counter + 1\n",
        "    entities_list = message_response['entities']\n",
        "    test_result_json.append({'overview': overview_clean,\n",
        "                             'predicted_intent': intent_list,\n",
        "                             'listed_intent': test_query['Intent'],\n",
        "                             'match': match,\n",
        "                             'entities': entities_list})\n",
        "    counter = counter + 1\n",
        "    print(counter, '\\t', match_counter, '\\t', match)\n",
        "df_test_results = pd.DataFrame.from_dict(test_result_json)\n",
        "df_test_results.to_excel('test_results-set2.xlsx')"
      ]
    },
    {
      "cell_type": "code",
      "execution_count": null,
      "metadata": {
        "id": "qXphhBci9d8u",
        "outputId": "6f028b94-a5c8-4d4f-ae80-e7a85103c7c7",
        "colab": {
          "base_uri": "https://localhost:8080/"
        }
      },
      "outputs": [
        {
          "output_type": "stream",
          "name": "stdout",
          "text": [
            "Match Accuracy:  1.0 Test Total:  20 Match Counter:  20\n"
          ]
        }
      ],
      "source": [
        "match_accuracy = match_counter / test_total\n",
        "print(\"Match Accuracy: \", match_accuracy, \"Test Total: \", test_total, \"Match Counter: \", match_counter)"
      ]
    },
    {
      "cell_type": "code",
      "execution_count": null,
      "metadata": {
        "id": "xafGj-LD9d8v"
      },
      "outputs": [],
      "source": [
        ""
      ]
    }
  ],
  "metadata": {
    "colab": {
      "collapsed_sections": [],
      "name": "Car_Carbon_TEST_Watson_Assistant.ipynb",
      "provenance": []
    },
    "kernelspec": {
      "display_name": "Python 3",
      "language": "python",
      "name": "python3"
    },
    "language_info": {
      "codemirror_mode": {
        "name": "ipython",
        "version": 3
      },
      "file_extension": ".py",
      "mimetype": "text/x-python",
      "name": "python",
      "nbconvert_exporter": "python",
      "pygments_lexer": "ipython3",
      "version": "3.8.8"
    }
  },
  "nbformat": 4,
  "nbformat_minor": 0
}